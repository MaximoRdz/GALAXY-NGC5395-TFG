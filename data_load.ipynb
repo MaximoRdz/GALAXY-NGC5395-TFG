{
 "cells": [
  {
   "cell_type": "markdown",
   "id": "f34c1aee-08c1-4776-87bb-0f0ae404ac6f",
   "metadata": {},
   "source": [
    "# Datos Calar Alto"
   ]
  },
  {
   "cell_type": "code",
   "execution_count": 2,
   "id": "d0209245-6d08-49d0-a44e-df5d81d765cd",
   "metadata": {},
   "outputs": [],
   "source": [
    "import os \n",
    "import numpy as np\n",
    "from astropy.io import fits"
   ]
  },
  {
   "cell_type": "code",
   "execution_count": 28,
   "id": "8499f233-d008-4ccf-9577-c8928b3136ea",
   "metadata": {},
   "outputs": [],
   "source": [
    "data_path = os.path.join('.', 'TFG_EXP_2022')\n",
    "fits_files = os.listdir(data_path)"
   ]
  },
  {
   "cell_type": "code",
   "execution_count": 45,
   "id": "b0550070-6229-4fb9-8b06-54dc83b27cfd",
   "metadata": {},
   "outputs": [],
   "source": [
    "def file_path(fits_file):\n",
    "    return os.path.join(data_path, fits_file)\n",
    "file_paths = np.vectorize(file_path)"
   ]
  },
  {
   "cell_type": "code",
   "execution_count": 46,
   "id": "93e909dc-e2f2-4adb-ac1f-1049b77835ac",
   "metadata": {},
   "outputs": [],
   "source": [
    "fits_files = file_paths(fits_files)"
   ]
  },
  {
   "cell_type": "code",
   "execution_count": 31,
   "id": "1755dbbb-d1d0-4967-9b79-e29f31180e6f",
   "metadata": {},
   "outputs": [],
   "source": [
    "def hdu_open(fits_file):\n",
    "    # given the path of a file it open the hdu\n",
    "    return fits.open(fits_file)\n",
    "hdu_open = np.vectorize(hdu_open)"
   ]
  },
  {
   "cell_type": "code",
   "execution_count": 33,
   "id": "9c841b25-682b-4c5b-829a-790ea12dbe99",
   "metadata": {},
   "outputs": [],
   "source": [
    "hdu_2022 = hdu_open(fits_files)"
   ]
  },
  {
   "cell_type": "code",
   "execution_count": 71,
   "id": "500644af-7a3b-4961-a3db-ce6357161f5b",
   "metadata": {},
   "outputs": [],
   "source": [
    "def header_object(hdu):\n",
    "    # returns the info: Object, Naxis1, Naxis2\n",
    "    return hdu[0].header['OBJECT'], hdu[0].header['NAXIS1'], hdu[0].header['NAXIS2']\n",
    "# list(map(header_object, hdu_2022))"
   ]
  },
  {
   "cell_type": "code",
   "execution_count": 72,
   "id": "c2970687-47d8-4e8d-b3bc-9a7083f20abf",
   "metadata": {},
   "outputs": [
    {
     "data": {
      "text/plain": [
       "[('[bias] img', 1601, 1601),\n",
       " ('[bias] img', 1601, 1601),\n",
       " ('[bias] img', 1601, 1601),\n",
       " ('[bias] img', 1601, 1601),\n",
       " ('[bias] img', 1601, 1601),\n",
       " ('[bias] img', 1601, 1601),\n",
       " ('[bias] img', 1601, 1601),\n",
       " ('[bias] img', 1601, 1601),\n",
       " ('[bias] img', 1601, 1601),\n",
       " ('[bias] img', 1601, 1601),\n",
       " ('[flat] dome R 50W', 1601, 1601),\n",
       " ('[flat] dome R 50W', 1601, 1601),\n",
       " ('[flat] dome R 50W', 1601, 1601),\n",
       " ('[flat] dome R 50W', 1601, 1601),\n",
       " ('[flat] dome R 50W', 1601, 1601),\n",
       " ('[flat] dome V 50W', 1601, 1601),\n",
       " ('[flat] dome V 50W', 1601, 1601),\n",
       " ('[flat] dome V 50W', 1601, 1601),\n",
       " ('[flat] dome V 50W', 1601, 1601),\n",
       " ('[flat] dome V 50W', 1601, 1601),\n",
       " ('[flat] dome B 50W', 1601, 1601),\n",
       " ('[flat] dome B 50W', 1601, 1601),\n",
       " ('[flat] dome B 50W', 1601, 1601),\n",
       " ('[flat] dome B 50W', 1601, 1601),\n",
       " ('[flat] dome B 50W', 1601, 1601),\n",
       " ('[flat] skyflat Halpha', 1024, 1024),\n",
       " ('[flat] skyflat Halpha', 1024, 1024),\n",
       " ('[flat] skyflat Halpha', 1024, 1024),\n",
       " ('[flat] skyflat Halpha', 1024, 1024),\n",
       " ('[flat] skyflat Halpha', 1024, 1024),\n",
       " ('NGC 5395 R', 1024, 1024),\n",
       " ('NGC 5395 R', 1024, 1024),\n",
       " ('NGC 5395 B', 1024, 1024),\n",
       " ('NGC 5395 B', 1024, 1024),\n",
       " ('NGC 5395 V', 1024, 1024),\n",
       " ('NGC 5395 V', 1024, 1024),\n",
       " ('NGC 5395 Halpha', 1024, 1024),\n",
       " ('NGC 5395 Halpha', 1024, 1024),\n",
       " ('NGC 5395 Halpha', 1024, 1024)]"
      ]
     },
     "execution_count": 72,
     "metadata": {},
     "output_type": "execute_result"
    }
   ],
   "source": [
    "def file_mask(hdu):\n",
    "    if 'img' in hdu[0].header['OBJECT']:\n",
    "        # True for the bias frames we need\n",
    "        return True\n",
    "    elif 'dome R 50W' in hdu[0].header['OBJECT']:\n",
    "        return True\n",
    "    elif 'dome B 50W' in hdu[0].header['OBJECT']:\n",
    "        return True\n",
    "    elif 'dome V 50W' in hdu[0].header['OBJECT']:\n",
    "        return True\n",
    "    elif 'skyflat Halpha' in hdu[0].header['OBJECT']:\n",
    "        return True\n",
    "    elif 'NGC' in hdu[0].header['OBJECT']:\n",
    "        return True\n",
    "    else:\n",
    "        return False\n",
    "mask = np.array(list(map(file_mask, hdu_2022)))\n",
    "hdu_science = hdu_2022[mask]\n",
    "list(map(header_object, hdu_science))"
   ]
  },
  {
   "cell_type": "code",
   "execution_count": null,
   "id": "a2f71c96-3da9-40fb-a37e-fbfa5ca4a658",
   "metadata": {},
   "outputs": [],
   "source": []
  },
  {
   "cell_type": "code",
   "execution_count": null,
   "id": "aa401fe8-0b11-4a44-84cb-a4d70b7b91f3",
   "metadata": {},
   "outputs": [],
   "source": []
  }
 ],
 "metadata": {
  "kernelspec": {
   "display_name": "Python 3 (ipykernel)",
   "language": "python",
   "name": "python3"
  },
  "language_info": {
   "codemirror_mode": {
    "name": "ipython",
    "version": 3
   },
   "file_extension": ".py",
   "mimetype": "text/x-python",
   "name": "python",
   "nbconvert_exporter": "python",
   "pygments_lexer": "ipython3",
   "version": "3.9.12"
  }
 },
 "nbformat": 4,
 "nbformat_minor": 5
}
